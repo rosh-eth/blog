{
 "cells": [
  {
   "cell_type": "raw",
   "id": "ff5a1d70-4c76-48da-a553-1ad5b30d2774",
   "metadata": {},
   "source": [
    "---\n",
    "title: \"Working through the Grind\"\n",
    "author: \"rosh-eth\"\n",
    "format: \n",
    "    html:\n",
    "        toc: true\n",
    "        number-of-sections: true\n",
    "    \n",
    "jupyter: python3\n",
    "---"
   ]
  },
  {
   "cell_type": "markdown",
   "id": "62ceb057-4ed2-4b27-b64f-a0ccf17874b3",
   "metadata": {},
   "source": [
    "# Introduction\n",
    "I'm taking up the challenge set out by Jeremy Howard and blogging about my experience learning 'deep learning' through fast.ai's course. \n",
    "\n",
    "I'm coming from a non-technical background and have been learning to code mostly in Javascript/Typescript to this point with a little Solidity because of my passion in web3, but I've been going down the rabbit hole of AI and I'm forcing myself to learn to use it to become a better builder because it's radically changing the workflows of developers (and everyone else). \n",
    "\n",
    "So I initially found fast.ai's course and went through the initial [Lesson 1](https://www.youtube.com/watch?v=8SF_h3xF3cE), and I'd played around with Jupyter Notebook before in some Python tutorials I had access to but I didn't really understand how to use it and have spent most of my time in Visual Studio Code (VSC). \n",
    "\n",
    "Seeing how Notebook was being used as a presentation device, used to write blogs and export into Word Documents and writing both code and documentation at the same time was pretty unfamiliar (but impressive and intimidating as well). So when it came to starting with the exercises I was completely lost because now I needed to use Kaggle or papersource and start a GPU instance and all these things I had no idea how to do. \n",
    "\n",
    "But I wanted to persist, and after much mucking around in the forums I stumbled upon the [Lesson 0](https://youtu.be/gGxe2mN3kAg) where I was told that I needed to have tenacity, and that those with those qualities not only completed the course but they also got great outcomes whether they are starting a startup like me, or looking for a job. Say no more...this I can do. I'm sick of going through things and not really getting a good grasp of things. \n",
    "\n",
    "But alas, this was still not enough because as a 'bunny' in Python, I had things set up through pip3 (don't get me started on spending hours realising there was a difference between `pip` and `pip3` for Mac) but didn't really understand anything properly and I had a bunch of things set up on my Mac (like Anaconda) but didn't really get it. I was navigating furiously between github repos for [fastbook](https://github.com/fastai/fastbook) and [course22](https://github.com/fastai/course22) but I had no idea how to use them locally or within Kaggle/Papersource. \n",
    "\n",
    "Then I stumbled upon the [live coding sessions](https://www.youtube.com/watch?v=56sIyFjihEc&list=PLfYUBJiXbdtSLBPJ1GMx-sQWf6iNhb8mM&index=1) where Jeremy walks through the setup he does from scratch and what I've learned all about today."
   ]
  },
  {
   "cell_type": "markdown",
   "id": "92546d5e-bd28-4149-bb26-48ceb0f512f8",
   "metadata": {},
   "source": [
    "### Things I've learned today (in no particular order)\n",
    "- tmux\n",
    "- mamba / conda / pip3\n",
    "- python\n",
    "- fastai / pytorch / jupyter\n",
    "- jupyter labs vs jupyter notebooks\n",
    "- notebooks / quarto\n",
    "- papersource / kaggle\n",
    "- fastbook / course22"
   ]
  },
  {
   "cell_type": "markdown",
   "id": "d1363687-1341-46ec-89eb-71282cbfd618",
   "metadata": {},
   "source": [
    "## New Habits / Commitments\n",
    "- blogging about my learning journey\n",
    "- learning by 'doing' and working on actual projects, not by tutorials and course or books\n",
    "\n",
    "- boxing each day\n"
   ]
  }
 ],
 "metadata": {
  "kernelspec": {
   "display_name": "Python 3 (ipykernel)",
   "language": "python",
   "name": "python3"
  },
  "language_info": {
   "codemirror_mode": {
    "name": "ipython",
    "version": 3
   },
   "file_extension": ".py",
   "mimetype": "text/x-python",
   "name": "python",
   "nbconvert_exporter": "python",
   "pygments_lexer": "ipython3",
   "version": "3.10.10"
  }
 },
 "nbformat": 4,
 "nbformat_minor": 5
}
